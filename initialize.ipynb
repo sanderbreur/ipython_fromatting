{
 "cells": [
  {
   "cell_type": "markdown",
   "metadata": {},
   "source": [
    "# Initialization and physics variables\n",
    "\n",
    "[Here we place all the stuff that we will use later on in our notebook]"
   ]
  },
  {
   "cell_type": "code",
   "execution_count": 1,
   "metadata": {
    "collapsed": true
   },
   "outputs": [],
   "source": [
    "# install sympy\n",
    "# conda install sympy\n",
    "\n",
    "# extensions\n",
    "# pip install, see notebook\n",
    "\n",
    "# spell checker\n",
    "# ipython install-nbextension, see notebook"
   ]
  },
  {
   "cell_type": "markdown",
   "metadata": {},
   "source": [
    "## Imports\n",
    "\n",
    "Importing the math library [numpy](https://en.wikipedia.org/wiki/NumPy)\n",
    "and the plotting library [matplotlib](https://en.wikipedia.org/wiki/Matplotlib):"
   ]
  },
  {
   "cell_type": "markdown",
   "metadata": {
    "toc": "true"
   },
   "source": [
    "# Table of Contents\n",
    " <p><div class=\"lev1\"><a href=\"#Initialization-and-physics-variables\"><span class=\"toc-item-num\">1 - </span>Initialization and physics variables</a></div><div class=\"lev2\"><a href=\"#Imports\"><span class=\"toc-item-num\">1.1 - </span>Imports</a></div><div class=\"lev2\"><a href=\"#Physics-variables\"><span class=\"toc-item-num\">1.2 - </span>Physics variables</a></div>"
   ]
  },
  {
   "cell_type": "code",
   "execution_count": 2,
   "metadata": {
    "collapsed": true
   },
   "outputs": [],
   "source": [
    "import numpy as np\n",
    "import matplotlib\n",
    "import matplotlib.pyplot as plt"
   ]
  },
  {
   "cell_type": "markdown",
   "metadata": {},
   "source": [
    "The command below makes matplotlib plots actually appear in the notebook. By default they are meant to pop-up in a new window, but besides being very inconvenient, this doesn't work if you are accessing a notebook server remotely."
   ]
  },
  {
   "cell_type": "code",
   "execution_count": 3,
   "metadata": {
    "collapsed": true
   },
   "outputs": [],
   "source": [
    "## Set plots to be inline the notebook\n",
    "%matplotlib inline "
   ]
  },
  {
   "cell_type": "markdown",
   "metadata": {},
   "source": [
    "Next, we set up a few more sensible defaults for matplotlib. In the future we can expand this to our very own XENON plot style..."
   ]
  },
  {
   "cell_type": "code",
   "execution_count": 4,
   "metadata": {
    "collapsed": false
   },
   "outputs": [],
   "source": [
    "matplotlib.rc('font', size=16)                   # Use big fonts...\n",
    "plt.rcParams['figure.figsize'] = (12.0, 10.0)    # ... and big plots"
   ]
  },
  {
   "cell_type": "markdown",
   "metadata": {},
   "source": [
    "Everyone has their favorite colormap for plots, here we define some [colormap for best lineair reading](https://bids.github.io/colormap/):"
   ]
  },
  {
   "cell_type": "code",
   "execution_count": 5,
   "metadata": {
    "collapsed": false
   },
   "outputs": [],
   "source": [
    "plt.set_cmap('viridis')\n",
    "plt.close()"
   ]
  },
  {
   "cell_type": "markdown",
   "metadata": {},
   "source": [
    "Here are some extra commands that we will use just for extra options"
   ]
  },
  {
   "cell_type": "code",
   "execution_count": 6,
   "metadata": {
    "collapsed": false
   },
   "outputs": [
    {
     "name": "stderr",
     "output_type": "stream",
     "text": [
      "/afs/pdc.kth.se/projects/xenon/software/Anaconda3r5/envs/pax/lib/python3.4/site-packages/IPython/kernel/__init__.py:13: ShimWarning: The `IPython.kernel` package has been deprecated. You should import from ipykernel or jupyter_client instead.\n",
      "  \"You should import from ipykernel or jupyter_client instead.\", ShimWarning)\n"
     ]
    }
   ],
   "source": [
    "# OS\n",
    "import os\n",
    "import sys\n",
    "\n",
    "# extra features\n",
    "from tqdm import tqdm ## Get a nice counter for loops\n",
    "\n",
    "# PAX examples\n",
    "from pax import units\n",
    "\n",
    "# Our new swiss army knife\n",
    "import hax\n",
    "\n",
    "# loading images\n",
    "from IPython.core.display import Image\n",
    "\n",
    "# More plotting:\n",
    "from time import strftime\n",
    "\n",
    "from sympy import init_printing, Matrix, symbols, Rational\n",
    "init_printing(use_latex = 'mathjax')"
   ]
  },
  {
   "cell_type": "markdown",
   "metadata": {},
   "source": [
    "## Physics variables\n",
    "\n",
    "By importing the units package from pax we always know which units we are using"
   ]
  },
  {
   "cell_type": "code",
   "execution_count": 7,
   "metadata": {
    "collapsed": false
   },
   "outputs": [],
   "source": [
    "tpc_size = 100 * units.cm"
   ]
  },
  {
   "cell_type": "code",
   "execution_count": 8,
   "metadata": {
    "collapsed": false
   },
   "outputs": [
    {
     "name": "stdout",
     "output_type": "stream",
     "text": [
      "Initialization done\n"
     ]
    }
   ],
   "source": [
    "# Send a message that we have finished the initialization\n",
    "print('Initialization done')"
   ]
  },
  {
   "cell_type": "code",
   "execution_count": null,
   "metadata": {
    "collapsed": true
   },
   "outputs": [],
   "source": []
  }
 ],
 "metadata": {
  "hide_input": false,
  "kernelspec": {
   "display_name": "Python 3",
   "language": "python",
   "name": "python3"
  },
  "language_info": {
   "codemirror_mode": {
    "name": "ipython",
    "version": 3
   },
   "file_extension": ".py",
   "mimetype": "text/x-python",
   "name": "python",
   "nbconvert_exporter": "python",
   "pygments_lexer": "ipython3",
   "version": "3.4.4"
  },
  "toc": {
   "toc_cell": true,
   "toc_number_sections": true,
   "toc_threshold": 4,
   "toc_window_display": true
  }
 },
 "nbformat": 4,
 "nbformat_minor": 0
}
