{
 "cells": [
  {
   "cell_type": "markdown",
   "metadata": {},
   "source": [
    "# Plot functions\n",
    "\n",
    "[Here we put some plot functions that we use more often]"
   ]
  },
  {
   "cell_type": "markdown",
   "metadata": {},
   "source": [
    "## General plot options\n",
    "\n",
    "Some plot functions that are used by other functions"
   ]
  },
  {
   "cell_type": "code",
   "execution_count": 1,
   "metadata": {
    "collapsed": true
   },
   "outputs": [],
   "source": [
    "# changes the general size of the plots\n",
    "size_multiplier = 1\n",
    "\n",
    "# function makes folder, pdf, png and web png (small)\n",
    "def save_plot(title):\n",
    "    if not os.path.exists(plot_folder):\n",
    "        os.makedirs(plot_folder)\n",
    "    if not os.path.exists(plot_folder_web):\n",
    "        os.makedirs(plot_folder_web)\n",
    "    if save_pdf_plots:\n",
    "        plt.savefig(os.path.join(plot_folder, title) + '.pdf', format='pdf')\n",
    "    if save_plots:\n",
    "        plt.savefig(os.path.join(plot_folder, title) + '.png', format='png', dpi=300)\n",
    "        plt.savefig(os.path.join(plot_folder_web, title) + '.png', format='png', dpi=50)\n",
    "\n",
    "# function to set the axis\n",
    "def set_axis(xaxis,yaxis,title):\n",
    "    plt.xlabel(xaxis, fontsize = 16)\n",
    "    plt.ylabel(yaxis, fontsize = 16)\n",
    "    plt.title(title, fontsize = 24, y =1.03)\n",
    "    plt.tick_params(axis='both', which='major', labelsize=16)\n",
    "    plt.tick_params(axis='both', which='minor', labelsize=16)"
   ]
  },
  {
   "cell_type": "markdown",
   "metadata": {},
   "source": [
    "## Scatter plots"
   ]
  },
  {
   "cell_type": "code",
   "execution_count": 2,
   "metadata": {
    "collapsed": true
   },
   "outputs": [],
   "source": [
    "# actual scatter plotting function that uses set_axis and save_plot\n",
    "def plot_scatter(x,y,xtitle,ytitle,title,xlim=[None,None],ylim=[None,None], colorb = False, \n",
    "                 colorblabel=None, discrete = False, vmax = None, *args, **kwargs):\n",
    "    if discrete:\n",
    "        plt.scatter(x,y,vmax = vmax,cmap = plt.get_cmap('jet', vmax), *args, **kwargs)\n",
    "    else:\n",
    "        plt.scatter(x,y,vmax = vmax, *args, **kwargs)\n",
    "    plt.xlim(xlim)\n",
    "    plt.ylim(ylim)\n",
    "    set_axis(xtitle,ytitle,title)\n",
    "    if colorb:\n",
    "        if discrete == True:\n",
    "            tick_bounds = np.linspace(0,vmax,vmax+1)\n",
    "            tickpos = np.linspace(tick_bounds[0] + .5, tick_bounds[-1] - .5, len(tick_bounds)-1)\n",
    "            cax = plt.colorbar(label=colorblabel, ticks=tickpos)\n",
    "            cax.set_ticklabels(tick_bounds)\n",
    "        else:\n",
    "            plt.colorbar(label=colorblabel)\n",
    "    save_plot(title)\n",
    "    plt.grid()\n",
    "    plt.show()\n",
    " \n"
   ]
  },
  {
   "cell_type": "markdown",
   "metadata": {},
   "source": [
    "## Histograms"
   ]
  },
  {
   "cell_type": "code",
   "execution_count": 3,
   "metadata": {
    "collapsed": true
   },
   "outputs": [],
   "source": [
    "# function for getting bin centers for histograms\n",
    "def bin_centers(bin_edges):\n",
    "    return 0.5*(bin_edges[1:] + bin_edges[:-1])\n",
    "\n",
    "# function for 2D histogram\n",
    "def twod_stat_plot(x, y, z, statistic='mean', bins=10, range=None, vrange=None, cblabel=None):\n",
    "    if vrange is None:\n",
    "        vrange = (None, None)\n",
    "    result, xbinedges, ybinedges, binnumbers = binned_statistic_2d(\n",
    "        x, y, z,\n",
    "        bins=bins,\n",
    "        statistic=statistic,\n",
    "        range=range\n",
    "    )\n",
    "    xx, yy = np.meshgrid(xbinedges, ybinedges)    \n",
    "\n",
    "    Zm = np.ma.masked_where(np.isnan(result),result)\n",
    "    plt.figure(figsize=(size_multiplier*12, size_multiplier*10))\n",
    "    plt.pcolormesh(xx, yy, Zm.T, vmin=vrange[0], vmax=vrange[1])\n",
    "    plt.colorbar(label=cblabel)\n",
    "    \n",
    "# Function to make the colorbar in discrete steps\n",
    "def discrete_matshow(data):\n",
    "    cmap = plt.get_cmap('RdBu', np.max(data)-np.min(data)+1)\n",
    "    mat = plt.matshow(data,cmap=cmap)\n",
    "    ticks = np.arange(np.min(data),np.max(data)+1)\n",
    "    tickpos = np.linspace(ticks[0] + .5, ticks[-1] - .5, len(ticks));\n",
    "    cax = plt.colorbar(mat, ticks=tickpos)\n",
    "    cax.set_ticklabels(ticks)"
   ]
  },
  {
   "cell_type": "markdown",
   "metadata": {},
   "source": [
    "### Using a more powerful hist package \n",
    "\n",
    "This uses Jelle's multihist package"
   ]
  },
  {
   "cell_type": "code",
   "execution_count": 4,
   "metadata": {
    "collapsed": true
   },
   "outputs": [],
   "source": [
    "from multihist import *\n",
    "\n",
    "def plot_2dhist(x,y,xtitle,ytitle,title,rangexy = [[None,None],[None,None]], colorb = False, \n",
    "                 colorblabel=None, bins =[100,100],vmin=None, vmax = None, *args, **kwargs):\n",
    "    m2 = Histdd(bins=bins, range=rangexy,*args, **kwargs)\n",
    "    m2.add(x,y)\n",
    "    m2.plot(cblabel = colorblabel, vmin=vmin, vmax=vmax)\n",
    "    set_axis(xtitle,ytitle,title)\n",
    "    plt.show()"
   ]
  },
  {
   "cell_type": "markdown",
   "metadata": {},
   "source": [
    "## For plotting PMT arrays"
   ]
  },
  {
   "cell_type": "code",
   "execution_count": 5,
   "metadata": {
    "collapsed": true
   },
   "outputs": [],
   "source": [
    "## For PMT arrays\n",
    "def plot_pmts(pmt_range,  s=20, colorbar =True, **kwargs):\n",
    "    plt.scatter([sim.config['pmt_locations'][i]['x'] for i in pmt_range], \n",
    "                [sim.config['pmt_locations'][i]['y'] for i in pmt_range],\n",
    "                 s=s, edgecolors='white', **kwargs)\n",
    "    if colorbar:\n",
    "        plt.colorbar(label = 'S2 light (pe)')\n",
    "    \n",
    "def plot_top_array_dead():\n",
    "    plot_pmts([ch for ch in sim.config['channels_top'] if ch in dead_pmts and ch != 0],\n",
    "              s=40, c='red', marker = 's', colorbar =False)\n",
    "    \n",
    "def plot_bottom_array_dead():\n",
    "    plot_pmts([ch for ch in sim.config['channels_bottom'] if ch in dead_pmts and ch != 0],\n",
    "              s=40, c='red', marker = 's', colorbar =False)\n",
    "\n",
    "def plot_top_saturated(saturated_channel_numbers):\n",
    "    plot_pmts([ch for ch in saturated_channel_numbers if ch in sim.config['channels_top']],\n",
    "               s = 20, c = 'black', marker = 'D', colorbar =False)\n",
    "    \n",
    "def plot_bottom_saturated(saturated_channel_numbers):\n",
    "    plot_pmts([ch for ch in saturated_channel_numbers if ch in sim.config['channels_bottom']],\n",
    "               s = 20, c = 'black', marker = 'D', colorbar =False)\n",
    "\n",
    "def plot_top_array(light,size_multiplier, **kwargs):\n",
    "    plot_pmts([ch for ch in sim.config['channels_top'] if ch not in dead_pmts],\n",
    "              s=np.absolute(light)*size_multiplier, c=light ,marker = 'o', **kwargs)\n",
    "    \n",
    "def plot_bottom_array(light,size_multiplier, **kwargs):\n",
    "    plot_pmts([ch for ch in sim.config['channels_bottom'] if ch not in dead_pmts],\n",
    "              s=np.absolute(light)*size_multiplier, c=light ,marker = 'o', **kwargs)\n",
    "\n",
    "def plot_detector_radius():\n",
    "    plt.xlim((-1.1*detector_radius, 1.1*detector_radius))\n",
    "    plt.ylim((-1.1*detector_radius, 1.1*detector_radius))\n",
    "\n",
    "    plt.gca().add_artist(plt.Circle((0,0), \n",
    "                                    detector_radius, \n",
    "                                    edgecolor='black', \n",
    "                                    fill=None))\n",
    "    plt.gca().add_artist(plt.Circle((0,0), \n",
    "                                    fiducial_volume_radius, \n",
    "                                    edgecolor='0.7',\n",
    "                                    fill=None))"
   ]
  },
  {
   "cell_type": "markdown",
   "metadata": {
    "collapsed": true
   },
   "source": [
    "### How to change font in plots\n",
    "\n",
    "Just some instructions on how to change the font of the text in your plots"
   ]
  },
  {
   "cell_type": "code",
   "execution_count": 6,
   "metadata": {
    "collapsed": true
   },
   "outputs": [],
   "source": [
    "# 1. Install arial on your system\n",
    "# sudo apt-get install fonts-liberation\n",
    "# sudo apt-get install msttcorefonts\n",
    "# sudo fc-cache -f -v\n",
    "\n",
    "# 2. delete your matplotlib cash in ~/.matplotlib or ~/.cache/matplotlib\n",
    "\n",
    "# 3. In your code import matplotlib and set font to Arial\n",
    "# (import matplotlib.pyplot as plt)\n",
    "\n",
    "# plt.rcParams.update({'font.sans-serif':'Arial'})\n",
    "\n",
    "# To check:\n",
    "# fc-list | grep -i \"Arial\"\n",
    "\n",
    "# Cheers, you now have another font for publishing in papers"
   ]
  },
  {
   "cell_type": "code",
   "execution_count": null,
   "metadata": {
    "collapsed": true
   },
   "outputs": [],
   "source": []
  }
 ],
 "metadata": {
  "hide_input": false,
  "kernelspec": {
   "display_name": "Python 3",
   "language": "python",
   "name": "python3"
  },
  "language_info": {
   "codemirror_mode": {
    "name": "ipython",
    "version": 3
   },
   "file_extension": ".py",
   "mimetype": "text/x-python",
   "name": "python",
   "nbconvert_exporter": "python",
   "pygments_lexer": "ipython3",
   "version": "3.4.4"
  },
  "toc": {
   "toc_cell": true,
   "toc_number_sections": true,
   "toc_threshold": 4,
   "toc_window_display": false
  }
 },
 "nbformat": 4,
 "nbformat_minor": 0
}
